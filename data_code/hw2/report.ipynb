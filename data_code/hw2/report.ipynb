{
 "cells": [
  {
   "cell_type": "code",
   "execution_count": 1,
   "id": "85565dae",
   "metadata": {},
   "outputs": [],
   "source": [
    "import pandas as pd\n",
    "import http"
   ]
  },
  {
   "cell_type": "code",
   "execution_count": 2,
   "id": "4d2d59f5",
   "metadata": {},
   "outputs": [],
   "source": [
    "data1 = pd.read_csv('fetch_foxnews.csv')\n",
    "fetches_attempted = data1.shape[0]\n",
    "fetches_succeeded = data1[data1[' Status Codes'] < 300].shape[0]\n",
    "fetches_failed = data1[data1[' Status Codes'] > 300].shape[0]\n",
    "status_codes = data1.groupby(data1[' Status Codes']).count().to_dict()[\"URL\"]"
   ]
  },
  {
   "cell_type": "code",
   "execution_count": 3,
   "id": "d87a7b3f",
   "metadata": {},
   "outputs": [
    {
     "data": {
      "text/plain": [
       "Index(['URL', ' Status Codes'], dtype='object')"
      ]
     },
     "execution_count": 3,
     "metadata": {},
     "output_type": "execute_result"
    }
   ],
   "source": [
    "data1.columns"
   ]
  },
  {
   "cell_type": "code",
   "execution_count": 4,
   "id": "14c044bc",
   "metadata": {},
   "outputs": [
    {
     "data": {
      "text/plain": [
       "Index(['URL', ' Status Codes'], dtype='object')"
      ]
     },
     "execution_count": 4,
     "metadata": {},
     "output_type": "execute_result"
    }
   ],
   "source": [
    "data1.columns"
   ]
  },
  {
   "cell_type": "code",
   "execution_count": 5,
   "id": "697a90bb",
   "metadata": {},
   "outputs": [
    {
     "data": {
      "text/plain": [
       "20000"
      ]
     },
     "execution_count": 5,
     "metadata": {},
     "output_type": "execute_result"
    }
   ],
   "source": [
    "fetches_attempted"
   ]
  },
  {
   "cell_type": "code",
   "execution_count": 6,
   "id": "42d049eb",
   "metadata": {},
   "outputs": [
    {
     "data": {
      "text/plain": [
       "19668"
      ]
     },
     "execution_count": 6,
     "metadata": {},
     "output_type": "execute_result"
    }
   ],
   "source": [
    "fetches_succeeded"
   ]
  },
  {
   "cell_type": "code",
   "execution_count": 7,
   "id": "af9524d3",
   "metadata": {},
   "outputs": [
    {
     "data": {
      "text/plain": [
       "332"
      ]
     },
     "execution_count": 7,
     "metadata": {},
     "output_type": "execute_result"
    }
   ],
   "source": [
    "fetches_failed"
   ]
  },
  {
   "cell_type": "code",
   "execution_count": 8,
   "id": "b5f0ac33",
   "metadata": {},
   "outputs": [],
   "source": [
    "data = pd.read_csv('visit_foxnews.csv')"
   ]
  },
  {
   "cell_type": "code",
   "execution_count": 9,
   "id": "014ab144",
   "metadata": {},
   "outputs": [
    {
     "data": {
      "text/html": [
       "<div>\n",
       "<style scoped>\n",
       "    .dataframe tbody tr th:only-of-type {\n",
       "        vertical-align: middle;\n",
       "    }\n",
       "\n",
       "    .dataframe tbody tr th {\n",
       "        vertical-align: top;\n",
       "    }\n",
       "\n",
       "    .dataframe thead th {\n",
       "        text-align: right;\n",
       "    }\n",
       "</style>\n",
       "<table border=\"1\" class=\"dataframe\">\n",
       "  <thead>\n",
       "    <tr style=\"text-align: right;\">\n",
       "      <th></th>\n",
       "      <th>URL</th>\n",
       "      <th>Size</th>\n",
       "      <th>Outlinks</th>\n",
       "      <th>Content-Type</th>\n",
       "    </tr>\n",
       "  </thead>\n",
       "  <tbody>\n",
       "    <tr>\n",
       "      <th>0</th>\n",
       "      <td>https://www.foxnews.com/</td>\n",
       "      <td>509008</td>\n",
       "      <td>336</td>\n",
       "      <td>text/html</td>\n",
       "    </tr>\n",
       "    <tr>\n",
       "      <th>1</th>\n",
       "      <td>https://www.foxnews.com/category/world/scandals</td>\n",
       "      <td>67664</td>\n",
       "      <td>165</td>\n",
       "      <td>text/html</td>\n",
       "    </tr>\n",
       "    <tr>\n",
       "      <th>2</th>\n",
       "      <td>https://www.foxnews.com/us/california-mom-kill...</td>\n",
       "      <td>103303</td>\n",
       "      <td>159</td>\n",
       "      <td>text/html</td>\n",
       "    </tr>\n",
       "    <tr>\n",
       "      <th>3</th>\n",
       "      <td>https://www.foxnews.com/opinion/five-things-ne...</td>\n",
       "      <td>115352</td>\n",
       "      <td>158</td>\n",
       "      <td>text/html</td>\n",
       "    </tr>\n",
       "    <tr>\n",
       "      <th>4</th>\n",
       "      <td>https://www.foxnews.com/auto</td>\n",
       "      <td>150120</td>\n",
       "      <td>264</td>\n",
       "      <td>text/html</td>\n",
       "    </tr>\n",
       "    <tr>\n",
       "      <th>...</th>\n",
       "      <td>...</td>\n",
       "      <td>...</td>\n",
       "      <td>...</td>\n",
       "      <td>...</td>\n",
       "    </tr>\n",
       "    <tr>\n",
       "      <th>19663</th>\n",
       "      <td>https://www.foxnews.com/politics/state-union-2...</td>\n",
       "      <td>108540</td>\n",
       "      <td>167</td>\n",
       "      <td>text/html</td>\n",
       "    </tr>\n",
       "    <tr>\n",
       "      <th>19664</th>\n",
       "      <td>https://www.foxnews.com/politics/biden-declare...</td>\n",
       "      <td>90495</td>\n",
       "      <td>161</td>\n",
       "      <td>text/html</td>\n",
       "    </tr>\n",
       "    <tr>\n",
       "      <th>19665</th>\n",
       "      <td>https://www.foxnews.com/us/david-depape-appear...</td>\n",
       "      <td>108239</td>\n",
       "      <td>161</td>\n",
       "      <td>text/html</td>\n",
       "    </tr>\n",
       "    <tr>\n",
       "      <th>19666</th>\n",
       "      <td>https://www.foxnews.com/health/vivek-murthy-su...</td>\n",
       "      <td>93659</td>\n",
       "      <td>157</td>\n",
       "      <td>text/html</td>\n",
       "    </tr>\n",
       "    <tr>\n",
       "      <th>19667</th>\n",
       "      <td>https://www.foxnews.com/politics/pelosi-urges-...</td>\n",
       "      <td>111028</td>\n",
       "      <td>162</td>\n",
       "      <td>text/html</td>\n",
       "    </tr>\n",
       "  </tbody>\n",
       "</table>\n",
       "<p>19668 rows × 4 columns</p>\n",
       "</div>"
      ],
      "text/plain": [
       "                                                     URL    Size  Outlinks  \\\n",
       "0                               https://www.foxnews.com/  509008       336   \n",
       "1        https://www.foxnews.com/category/world/scandals   67664       165   \n",
       "2      https://www.foxnews.com/us/california-mom-kill...  103303       159   \n",
       "3      https://www.foxnews.com/opinion/five-things-ne...  115352       158   \n",
       "4                           https://www.foxnews.com/auto  150120       264   \n",
       "...                                                  ...     ...       ...   \n",
       "19663  https://www.foxnews.com/politics/state-union-2...  108540       167   \n",
       "19664  https://www.foxnews.com/politics/biden-declare...   90495       161   \n",
       "19665  https://www.foxnews.com/us/david-depape-appear...  108239       161   \n",
       "19666  https://www.foxnews.com/health/vivek-murthy-su...   93659       157   \n",
       "19667  https://www.foxnews.com/politics/pelosi-urges-...  111028       162   \n",
       "\n",
       "      Content-Type  \n",
       "0        text/html  \n",
       "1        text/html  \n",
       "2        text/html  \n",
       "3        text/html  \n",
       "4        text/html  \n",
       "...            ...  \n",
       "19663    text/html  \n",
       "19664    text/html  \n",
       "19665    text/html  \n",
       "19666    text/html  \n",
       "19667    text/html  \n",
       "\n",
       "[19668 rows x 4 columns]"
      ]
     },
     "execution_count": 9,
     "metadata": {},
     "output_type": "execute_result"
    }
   ],
   "source": [
    "data"
   ]
  },
  {
   "cell_type": "code",
   "execution_count": 10,
   "id": "85aca094",
   "metadata": {},
   "outputs": [
    {
     "data": {
      "text/plain": [
       "Index(['URL', 'Size', 'Outlinks', 'Content-Type'], dtype='object')"
      ]
     },
     "execution_count": 10,
     "metadata": {},
     "output_type": "execute_result"
    }
   ],
   "source": [
    "data.columns"
   ]
  },
  {
   "cell_type": "code",
   "execution_count": 11,
   "id": "3f182c4a",
   "metadata": {},
   "outputs": [],
   "source": [
    "total_urls_extracted = data[\"Outlinks\"].sum()\n",
    "less_1KB = data[data['Size'] < 1024].shape[0]\n",
    "less_10KB = data[(1024 <= data['Size']) & (data['Size'] < 10 * 1024)].shape[0]\n",
    "less_100KB = data[(10 * 1024 <= data['Size']) & (data['Size'] < 100 * 1024)].shape[0]\n",
    "less_1mb = data[(100 * 1024 <= data['Size']) & (data['Size'] < 1024 * 1024)].shape[0]\n",
    "greater_1mb = data[1024 * 1024 <= data['Size']].shape[0]\n",
    "content_types = data.groupby(data['Content-Type']).count().to_dict()['URL']"
   ]
  },
  {
   "cell_type": "code",
   "execution_count": 12,
   "id": "53f7d98a",
   "metadata": {},
   "outputs": [
    {
     "data": {
      "text/plain": [
       "2548582"
      ]
     },
     "execution_count": 12,
     "metadata": {},
     "output_type": "execute_result"
    }
   ],
   "source": [
    "total_urls_extracted"
   ]
  },
  {
   "cell_type": "code",
   "execution_count": 13,
   "id": "c382bd82",
   "metadata": {},
   "outputs": [
    {
     "data": {
      "text/plain": [
       "0"
      ]
     },
     "execution_count": 13,
     "metadata": {},
     "output_type": "execute_result"
    }
   ],
   "source": [
    "less_1KB"
   ]
  },
  {
   "cell_type": "code",
   "execution_count": 14,
   "id": "74850a6a",
   "metadata": {},
   "outputs": [
    {
     "data": {
      "text/plain": [
       "48"
      ]
     },
     "execution_count": 14,
     "metadata": {},
     "output_type": "execute_result"
    }
   ],
   "source": [
    "greater_1mb"
   ]
  },
  {
   "cell_type": "code",
   "execution_count": 15,
   "id": "662bcb9d",
   "metadata": {},
   "outputs": [
    {
     "data": {
      "text/plain": [
       "Index(['encountered URL', ' indicator'], dtype='object')"
      ]
     },
     "execution_count": 15,
     "metadata": {},
     "output_type": "execute_result"
    }
   ],
   "source": [
    "data3 = pd.read_csv('urls_foxnews.csv')\n",
    "data3.columns"
   ]
  },
  {
   "cell_type": "code",
   "execution_count": 16,
   "id": "22437a7a",
   "metadata": {},
   "outputs": [
    {
     "data": {
      "text/html": [
       "<div>\n",
       "<style scoped>\n",
       "    .dataframe tbody tr th:only-of-type {\n",
       "        vertical-align: middle;\n",
       "    }\n",
       "\n",
       "    .dataframe tbody tr th {\n",
       "        vertical-align: top;\n",
       "    }\n",
       "\n",
       "    .dataframe thead th {\n",
       "        text-align: right;\n",
       "    }\n",
       "</style>\n",
       "<table border=\"1\" class=\"dataframe\">\n",
       "  <thead>\n",
       "    <tr style=\"text-align: right;\">\n",
       "      <th></th>\n",
       "      <th>encountered URL</th>\n",
       "      <th>indicator</th>\n",
       "    </tr>\n",
       "  </thead>\n",
       "  <tbody>\n",
       "    <tr>\n",
       "      <th>0</th>\n",
       "      <td>https://www.foxnews.com/index.html</td>\n",
       "      <td>OK</td>\n",
       "    </tr>\n",
       "    <tr>\n",
       "      <th>1</th>\n",
       "      <td>https://www.foxnews.com/</td>\n",
       "      <td>OK</td>\n",
       "    </tr>\n",
       "    <tr>\n",
       "      <th>2</th>\n",
       "      <td>https://a57.foxnews.com/static.foxnews.com/fox...</td>\n",
       "      <td>N_OK</td>\n",
       "    </tr>\n",
       "    <tr>\n",
       "      <th>3</th>\n",
       "      <td>https://www.foxbusiness.com/economy/fda-decide...</td>\n",
       "      <td>N_OK</td>\n",
       "    </tr>\n",
       "    <tr>\n",
       "      <th>4</th>\n",
       "      <td>https://www.factset.com/privacy</td>\n",
       "      <td>N_OK</td>\n",
       "    </tr>\n",
       "    <tr>\n",
       "      <th>...</th>\n",
       "      <td>...</td>\n",
       "      <td>...</td>\n",
       "    </tr>\n",
       "    <tr>\n",
       "      <th>1043962</th>\n",
       "      <td>https://www.foxnews.com/_wzln/2cf63cb.js</td>\n",
       "      <td>OK</td>\n",
       "    </tr>\n",
       "    <tr>\n",
       "      <th>1043963</th>\n",
       "      <td>https://www.foxweather.com/</td>\n",
       "      <td>N_OK</td>\n",
       "    </tr>\n",
       "    <tr>\n",
       "      <th>1043964</th>\n",
       "      <td>https://bidder.criteo.com/</td>\n",
       "      <td>N_OK</td>\n",
       "    </tr>\n",
       "    <tr>\n",
       "      <th>1043965</th>\n",
       "      <td>https://press.foxnews.com/media-contacts/</td>\n",
       "      <td>N_OK</td>\n",
       "    </tr>\n",
       "    <tr>\n",
       "      <th>1043966</th>\n",
       "      <td>http://privacy.foxnews.com/main/web/main</td>\n",
       "      <td>N_OK</td>\n",
       "    </tr>\n",
       "  </tbody>\n",
       "</table>\n",
       "<p>1043967 rows × 2 columns</p>\n",
       "</div>"
      ],
      "text/plain": [
       "                                           encountered URL  indicator\n",
       "0                       https://www.foxnews.com/index.html         OK\n",
       "1                                 https://www.foxnews.com/         OK\n",
       "2        https://a57.foxnews.com/static.foxnews.com/fox...       N_OK\n",
       "3        https://www.foxbusiness.com/economy/fda-decide...       N_OK\n",
       "4                          https://www.factset.com/privacy       N_OK\n",
       "...                                                    ...        ...\n",
       "1043962           https://www.foxnews.com/_wzln/2cf63cb.js         OK\n",
       "1043963                        https://www.foxweather.com/       N_OK\n",
       "1043964                         https://bidder.criteo.com/       N_OK\n",
       "1043965          https://press.foxnews.com/media-contacts/       N_OK\n",
       "1043966           http://privacy.foxnews.com/main/web/main       N_OK\n",
       "\n",
       "[1043967 rows x 2 columns]"
      ]
     },
     "execution_count": 16,
     "metadata": {},
     "output_type": "execute_result"
    }
   ],
   "source": [
    "data3"
   ]
  },
  {
   "cell_type": "code",
   "execution_count": 17,
   "id": "d8c56617",
   "metadata": {},
   "outputs": [],
   "source": [
    "unique_extracted = data3.shape[0]\n",
    "unique_within = data3[data3[' indicator'] == \" OK\"].shape[0]\n",
    "unique_outside = data3[data3[' indicator'] == \" N_OK\"].shape[0]"
   ]
  },
  {
   "cell_type": "code",
   "execution_count": 18,
   "id": "edb4dd26",
   "metadata": {},
   "outputs": [
    {
     "data": {
      "text/plain": [
       "1043967"
      ]
     },
     "execution_count": 18,
     "metadata": {},
     "output_type": "execute_result"
    }
   ],
   "source": [
    "unique_extracted"
   ]
  },
  {
   "cell_type": "code",
   "execution_count": 19,
   "id": "fd3a881e",
   "metadata": {},
   "outputs": [
    {
     "data": {
      "text/plain": [
       "138305"
      ]
     },
     "execution_count": 19,
     "metadata": {},
     "output_type": "execute_result"
    }
   ],
   "source": [
    "unique_within"
   ]
  },
  {
   "cell_type": "code",
   "execution_count": 20,
   "id": "61beca08",
   "metadata": {},
   "outputs": [
    {
     "data": {
      "text/plain": [
       "905662"
      ]
     },
     "execution_count": 20,
     "metadata": {},
     "output_type": "execute_result"
    }
   ],
   "source": [
    "unique_outside"
   ]
  },
  {
   "cell_type": "code",
   "execution_count": 21,
   "id": "26f2c8aa",
   "metadata": {},
   "outputs": [],
   "source": [
    "with open(\"CrawlReport_foxnews.txt\", \"w\") as f:\n",
    "    f.write(f\"Name: Zhuoyou Shen\\n\")\n",
    "    f.write(f\"USC ID: 2035073656\\n\")\n",
    "    f.write(f\"News site crawled: foxnews.com\\n\")\n",
    "    f.write(f\"Number of threads: 10\\n\")\n",
    "    f.write(f\"\\n\")\n",
    "\n",
    "    f.write(f\"Fetch Statistics\\n\")\n",
    "    f.write(f\"================\\n\")\n",
    "    f.write(f\"fetches attempted: {fetches_attempted}\\n\")\n",
    "    f.write(f\"fetches succeeded: {fetches_succeeded}\\n\")\n",
    "    f.write(f\"fetches failed or aborted: {fetches_failed}\\n\")\n",
    "    f.write(f\"\\n\")\n",
    "\n",
    "    f.write(f\"Outgoing URLs:\\n\")\n",
    "    f.write(f\"==============\\n\")\n",
    "    f.write(f\"Total URLs extracted: {total_urls_extracted}\\n\")\n",
    "    f.write(f\"# unique URLs extracted: {unique_extracted}\\n\")\n",
    "    f.write(f\"# unique URLs within News Site: {unique_within}\\n\")\n",
    "    f.write(f\"# unique URLs outside News Site: {unique_outside}\\n\")\n",
    "    f.write(f\"\\n\")\n",
    "\n",
    "    f.write(f\"Status Codes:\\n\")\n",
    "    f.write(f\"=============\\n\")\n",
    "    for code in sorted(status_codes.keys()):\n",
    "        f.write(f\"{code} {http.HTTPStatus(code).phrase}: {status_codes[code]}\\n\")\n",
    "    f.write(f\"\\n\")\n",
    "\n",
    "    f.write(f\"File Sizes:\\n\")\n",
    "    f.write(f\"===========\\n\")\n",
    "    f.write(f\"< 1KB: {less_1KB}\\n\")\n",
    "    f.write(f\"1KB ~ <10KB: {less_10KB}\\n\")\n",
    "    f.write(f\"10KB ~ <100KB: {less_100KB}\\n\")\n",
    "    f.write(f\"100KB ~ <1MB: {less_1mb}\\n\")\n",
    "    f.write(f\">= 1MB: {greater_1mb}\\n\")\n",
    "    f.write(f\"\\n\")\n",
    "\n",
    "    f.write(f\"Content Types:\\n\")\n",
    "    f.write(f\"==============\\n\")\n",
    "    for content in sorted(content_types.keys()):\n",
    "        f.write(f\"{content}: {content_types[content]}\\n\")"
   ]
  }
 ],
 "metadata": {
  "kernelspec": {
   "display_name": "Python 3",
   "language": "python",
   "name": "python3"
  },
  "language_info": {
   "codemirror_mode": {
    "name": "ipython",
    "version": 3
   },
   "file_extension": ".py",
   "mimetype": "text/x-python",
   "name": "python",
   "nbconvert_exporter": "python",
   "pygments_lexer": "ipython3",
   "version": "3.8.8"
  }
 },
 "nbformat": 4,
 "nbformat_minor": 5
}
